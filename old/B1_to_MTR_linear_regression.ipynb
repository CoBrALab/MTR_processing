{
 "cells": [
  {
   "cell_type": "code",
   "execution_count": 1,
   "metadata": {},
   "outputs": [],
   "source": [
    "import pandas as pd\n",
    "import csv\n",
    "import numpy as np\n",
    "import matplotlib.pyplot as plt\n",
    "from sklearn import linear_model\n",
    "from scipy.stats import gaussian_kde\n",
    "import seaborn as sns\n",
    "import SimpleITK as sitk\n",
    "import glob"
   ]
  },
  {
   "cell_type": "code",
   "execution_count": 2,
   "metadata": {},
   "outputs": [],
   "source": [
    "import warnings\n",
    "warnings.filterwarnings(\"ignore\")"
   ]
  },
  {
   "cell_type": "markdown",
   "metadata": {},
   "source": [
    "*this part was edited on Dec 23, 2020 (to obtain final diagrams)"
   ]
  },
  {
   "cell_type": "markdown",
   "metadata": {},
   "source": [
    "**Voxel-specific slope** "
   ]
  },
  {
   "cell_type": "markdown",
   "metadata": {},
   "source": [
    "1) Define all the normalized b1 ranges (differ between nrm and cry)"
   ]
  },
  {
   "cell_type": "code",
   "execution_count": 2,
   "metadata": {},
   "outputs": [
    {
     "data": {
      "text/plain": [
       "array([[-0.215311 ],\n",
       "       [-0.1722488],\n",
       "       [-0.1291866],\n",
       "       [-0.0861244],\n",
       "       [-0.0430622],\n",
       "       [ 0.       ]])"
      ]
     },
     "execution_count": 2,
     "metadata": {},
     "output_type": "execute_result"
    }
   ],
   "source": [
    "b1_norm = np.array([820, 865, 910, 955, 1000, 1045])/1045\n",
    "b1_norm_cry_6scan = b1_norm.reshape(-1,1)-1\n",
    "b1_norm_cry_6scan"
   ]
  },
  {
   "cell_type": "code",
   "execution_count": 3,
   "metadata": {},
   "outputs": [
    {
     "data": {
      "text/plain": [
       "array([[-0.24880383],\n",
       "       [-0.18660287],\n",
       "       [-0.12440191],\n",
       "       [-0.06220096],\n",
       "       [ 0.        ]])"
      ]
     },
     "execution_count": 3,
     "metadata": {},
     "output_type": "execute_result"
    }
   ],
   "source": [
    "b1_norm = np.array([785, 850, 915, 980, 1045])/1045\n",
    "b1_norm_cry_5scan = b1_norm.reshape(-1,1)-1\n",
    "b1_norm_cry_5scan"
   ]
  },
  {
   "cell_type": "code",
   "execution_count": 4,
   "metadata": {},
   "outputs": [
    {
     "data": {
      "text/plain": [
       "array([[-0.1953125],\n",
       "       [-0.15625  ],\n",
       "       [-0.1171875],\n",
       "       [-0.078125 ],\n",
       "       [-0.0390625],\n",
       "       [ 0.       ]])"
      ]
     },
     "execution_count": 4,
     "metadata": {},
     "output_type": "execute_result"
    }
   ],
   "source": [
    "b1_norm = np.array([412, 432, 452, 472, 492, 512])/512\n",
    "b1_norm_nrm_6scan = b1_norm.reshape(-1,1)-1\n",
    "b1_norm_nrm_6scan"
   ]
  },
  {
   "cell_type": "code",
   "execution_count": 5,
   "metadata": {},
   "outputs": [
    {
     "data": {
      "text/plain": [
       "array([[-0.15625  ],\n",
       "       [-0.1171875],\n",
       "       [-0.078125 ],\n",
       "       [-0.0390625],\n",
       "       [ 0.       ]])"
      ]
     },
     "execution_count": 5,
     "metadata": {},
     "output_type": "execute_result"
    }
   ],
   "source": [
    "b1_norm = np.array([432, 452, 472, 492, 512])/512\n",
    "b1_norm_nrm_5scan = b1_norm.reshape(-1,1)-1\n",
    "b1_norm_nrm_5scan"
   ]
  },
  {
   "cell_type": "code",
   "execution_count": 18,
   "metadata": {},
   "outputs": [],
   "source": [
    "#takes as input raw minc filenames, they should be ordered from lowest to greatest flip angle\n",
    "def voxel_wise_lr_cry_6scan(mnc1, mnc2, mnc3, mnc4, mnc5, mnc6):\n",
    "    im1 = sitk.ReadImage(mnc1)\n",
    "    im2 = sitk.ReadImage(mnc2)\n",
    "    im3 = sitk.ReadImage(mnc3)\n",
    "    im4 = sitk.ReadImage(mnc4)\n",
    "    im5 = sitk.ReadImage(mnc5)\n",
    "    im6 = sitk.ReadImage(mnc6)\n",
    "    #convert each image to a matrix, and flatten the matrix into a 1d array\n",
    "    #at the same time, divide the result by the values at FA=1045 to normalize (this may yield some NaN division by 0)\n",
    "    v6 = np.matrix.flatten(sitk.GetArrayFromImage(im6))\n",
    "    v1 = np.divide(np.matrix.flatten(sitk.GetArrayFromImage(im1)), v6)\n",
    "    v2 = np.divide(np.matrix.flatten(sitk.GetArrayFromImage(im2)), v6)\n",
    "    v3 = np.divide(np.matrix.flatten(sitk.GetArrayFromImage(im3)), v6)\n",
    "    v4 = np.divide(np.matrix.flatten(sitk.GetArrayFromImage(im4)),v6)\n",
    "    v5 = np.divide(np.matrix.flatten(sitk.GetArrayFromImage(im5)), v6)\n",
    "    v6 = np.divide(v6, v6)\n",
    "    #concatenate the vectors along a second dimension\n",
    "    concat = np.stack((v1, v2, v3, v4, v5, v6), axis=-1)\n",
    "    concat_centered = concat-1\n",
    "    #create an empty array to hold the slopes\n",
    "    voxel_num = v1.size\n",
    "    slopes = np.zeros((voxel_num, 1))\n",
    "    #perform the linear regression by looping over all voxels\n",
    "    #skip any voxels with NaN values due to the normalization (these values remain 0)\n",
    "    #for each voxel, add the slope from the linear regression to the slopes array\n",
    "    for i in range(0, voxel_num):\n",
    "        if np.isnan(concat[i,:]).any() == False:\n",
    "            regr_obj = linear_model.LinearRegression(fit_intercept = False)\n",
    "            regr_fit = regr_obj.fit(b1_norm_cry_6scan,concat_centered[i,:])\n",
    "            slopes[i] = regr_fit.coef_\n",
    "        else:\n",
    "            continue\n",
    "    slopes_matrix = np.reshape(slopes, (45,90,80))\n",
    "    return slopes_matrix"
   ]
  },
  {
   "cell_type": "code",
   "execution_count": 19,
   "metadata": {},
   "outputs": [],
   "source": [
    "#takes as input raw minc filenames, they should be ordered from lowest to greatest flip angle\n",
    "def voxel_wise_lr_cry_5scan(mnc1, mnc2, mnc3, mnc4, mnc5):\n",
    "    im1 = sitk.ReadImage(mnc1)\n",
    "    im2 = sitk.ReadImage(mnc2)\n",
    "    im3 = sitk.ReadImage(mnc3)\n",
    "    im4 = sitk.ReadImage(mnc4)\n",
    "    im5 = sitk.ReadImage(mnc5)\n",
    "    #convert each image to a matrix, and flatten the matrix into a 1d array\n",
    "    #at the same time, divide the result by the values at FA=1045 to normalize (this may yield some NaN division by 0)\n",
    "    v5 = np.matrix.flatten(sitk.GetArrayFromImage(im5))\n",
    "    v1 = np.divide(np.matrix.flatten(sitk.GetArrayFromImage(im1)), v5)\n",
    "    v2 = np.divide(np.matrix.flatten(sitk.GetArrayFromImage(im2)), v5)\n",
    "    v3 = np.divide(np.matrix.flatten(sitk.GetArrayFromImage(im3)), v5)\n",
    "    v4 = np.divide(np.matrix.flatten(sitk.GetArrayFromImage(im4)),v5)\n",
    "    v5 = np.divide(np.matrix.flatten(sitk.GetArrayFromImage(im5)), v5)\n",
    "    #concatenate the vectors along a second dimension\n",
    "    concat = np.stack((v1, v2, v3, v4, v5), axis=-1)\n",
    "    concat_centered = concat-1\n",
    "    #create an empty array to hold the slopes\n",
    "    voxel_num = v1.size\n",
    "    slopes = np.zeros((voxel_num, 1))\n",
    "    #perform the linear regression by looping over all voxels\n",
    "    #skip any voxels with NaN values due to the normalization (these values remain 0)\n",
    "    #for each voxel, add the slope from the linear regression to the slopes array\n",
    "    for i in range(0, voxel_num):\n",
    "        if np.isnan(concat[i,:]).any() == False:\n",
    "            regr_obj = linear_model.LinearRegression(fit_intercept = False)\n",
    "            regr_fit = regr_obj.fit(b1_norm_cry_5scan,concat_centered[i,:])\n",
    "            slopes[i] = regr_fit.coef_\n",
    "        else:\n",
    "            continue\n",
    "    slopes_matrix = np.reshape(slopes, (45,90,80))\n",
    "    return slopes_matrix"
   ]
  },
  {
   "cell_type": "code",
   "execution_count": 20,
   "metadata": {},
   "outputs": [],
   "source": [
    "#takes as input raw minc filenames, they should be ordered from lowest to greatest flip angle\n",
    "def voxel_wise_lr_nrm_6scan(mnc1, mnc2, mnc3, mnc4, mnc5, mnc6):\n",
    "    im1 = sitk.ReadImage(mnc1)\n",
    "    im2 = sitk.ReadImage(mnc2)\n",
    "    im3 = sitk.ReadImage(mnc3)\n",
    "    im4 = sitk.ReadImage(mnc4)\n",
    "    im5 = sitk.ReadImage(mnc5)\n",
    "    im6 = sitk.ReadImage(mnc6)\n",
    "    #convert each image to a matrix, and flatten the matrix into a 1d array\n",
    "    #at the same time, divide the result by the values at FA=512 to normalize (this may yield some NaN division by 0)\n",
    "    v6 = np.matrix.flatten(sitk.GetArrayFromImage(im6))\n",
    "    v1 = np.divide(np.matrix.flatten(sitk.GetArrayFromImage(im1)), v6)\n",
    "    v2 = np.divide(np.matrix.flatten(sitk.GetArrayFromImage(im2)), v6)\n",
    "    v3 = np.divide(np.matrix.flatten(sitk.GetArrayFromImage(im3)), v6)\n",
    "    v4 = np.divide(np.matrix.flatten(sitk.GetArrayFromImage(im4)),v6)\n",
    "    v5 = np.divide(np.matrix.flatten(sitk.GetArrayFromImage(im5)), v6)\n",
    "    v6 = np.divide(np.matrix.flatten(sitk.GetArrayFromImage(im6)), v6)\n",
    "    #concatenate the vectors along a second dimension\n",
    "    concat = np.stack((v1, v2, v3, v4, v5, v6), axis=-1)\n",
    "    concat_centered = concat-1\n",
    "    #create an empty array to hold the slopes\n",
    "    voxel_num = v1.size\n",
    "    slopes = np.zeros((voxel_num, 1))\n",
    "    #perform the linear regression by looping over all voxels\n",
    "    #skip any voxels with NaN values due to the normalization (these values remain 0)\n",
    "    #for each voxel, add the slope from the linear regression to the slopes array\n",
    "    for i in range(0, voxel_num):\n",
    "        if np.isnan(concat[i,:]).any() == False:\n",
    "            regr_obj = linear_model.LinearRegression(fit_intercept = False)\n",
    "            regr_fit = regr_obj.fit(b1_norm_nrm_6scan,concat_centered[i,:])\n",
    "            slopes[i] = regr_fit.coef_\n",
    "        else:\n",
    "            continue\n",
    "    slopes_matrix = np.reshape(slopes, (45,90,80))\n",
    "    return slopes_matrix"
   ]
  },
  {
   "cell_type": "code",
   "execution_count": 21,
   "metadata": {},
   "outputs": [],
   "source": [
    "#takes as input raw minc filenames, they should be ordered from lowest to greatest flip angle\n",
    "def voxel_wise_lr_nrm_5scan(mnc1, mnc2, mnc3, mnc4, mnc5):\n",
    "    im1 = sitk.ReadImage(mnc1)\n",
    "    im2 = sitk.ReadImage(mnc2)\n",
    "    im3 = sitk.ReadImage(mnc3)\n",
    "    im4 = sitk.ReadImage(mnc4)\n",
    "    im5 = sitk.ReadImage(mnc5)\n",
    "    #convert each image to a matrix, and flatten the matrix into a 1d array\n",
    "    #at the same time, divide the result by the values at FA=1045 to normalize (this may yield some NaN division by 0)\n",
    "    v5 = np.matrix.flatten(sitk.GetArrayFromImage(im5))\n",
    "    v1 = np.divide(np.matrix.flatten(sitk.GetArrayFromImage(im1)), v5)\n",
    "    v2 = np.divide(np.matrix.flatten(sitk.GetArrayFromImage(im2)), v5)\n",
    "    v3 = np.divide(np.matrix.flatten(sitk.GetArrayFromImage(im3)), v5)\n",
    "    v4 = np.divide(np.matrix.flatten(sitk.GetArrayFromImage(im4)),v5)\n",
    "    v5 = np.divide(np.matrix.flatten(sitk.GetArrayFromImage(im5)), v5)\n",
    "    #concatenate the vectors along a second dimension\n",
    "    concat = np.stack((v1, v2, v3, v4, v5), axis=-1)\n",
    "    concat_centered = concat-1\n",
    "    #create an empty array to hold the slopes\n",
    "    voxel_num = v1.size\n",
    "    slopes = np.zeros((voxel_num, 1))\n",
    "    #perform the linear regression by looping over all voxels\n",
    "    #skip any voxels with NaN values due to the normalization (these values remain 0)\n",
    "    #for each voxel, add the slope from the linear regression to the slopes array\n",
    "    for i in range(0, voxel_num):\n",
    "        if np.isnan(concat[i,:]).any() == False:\n",
    "            regr_obj = linear_model.LinearRegression(fit_intercept = False)\n",
    "            regr_fit = regr_obj.fit(b1_norm_nrm_5scan,concat_centered[i,:])\n",
    "            slopes[i] = regr_fit.coef_\n",
    "        else:\n",
    "            continue\n",
    "    slopes_matrix = np.reshape(slopes, (45,90,80))\n",
    "    return slopes_matrix"
   ]
  },
  {
   "cell_type": "markdown",
   "metadata": {},
   "source": [
    "2) Load the files (denoised + eroded) for all cryo and nrm subjects. These ones are not masked according to the B1 map."
   ]
  },
  {
   "cell_type": "code",
   "execution_count": 67,
   "metadata": {},
   "outputs": [],
   "source": [
    "#run for ccx_003, 004 and 005\n",
    "ccx_003_files_d_e = sorted(glob.glob('./calibration_final_oct2020/minc_files/mtr_maps_denoised_eroded/*ccx_003*'))\n",
    "ccx_005_files_d_e = sorted(glob.glob('./calibration_final_oct2020/minc_files/mtr_maps_denoised_eroded/*ccx_005*'))\n",
    "ccx_009_files_d_e = sorted(glob.glob('./calibration_final_oct2020/minc_files/mtr_maps_denoised_eroded/*ccx_009*'))\n",
    "ccx_010_files_d_e = sorted(glob.glob('./calibration_final_oct2020/minc_files/mtr_maps_denoised_eroded/*ccx_010*'))\n",
    "cry_122_files_d_e = sorted(glob.glob('./calibration_final_oct2020/minc_files/mtr_maps_denoised_eroded/*cry_122*'))"
   ]
  },
  {
   "cell_type": "code",
   "execution_count": 23,
   "metadata": {},
   "outputs": [],
   "source": [
    "#run for mil_001, 004 and 005\n",
    "mil_001_files_d_e = sorted(glob.glob('./calibration_final_oct2020/minc_files/mtr_maps_denoised_eroded/*mil_001*'))\n",
    "nrm_122_files_d_e = sorted(glob.glob('./calibration_final_oct2020/minc_files/mtr_maps_denoised_eroded/*nrm_122*'))\n",
    "nrm_133_files_d_e = sorted(glob.glob('./calibration_final_oct2020/minc_files/mtr_maps_denoised_eroded/*nrm_133*'))\n",
    "nrm_144_files_d_e = sorted(glob.glob('./calibration_final_oct2020/minc_files/mtr_maps_denoised_eroded/*nrm_144*'))\n",
    "nrm_155_files_d_e = sorted(glob.glob('./calibration_final_oct2020/minc_files/mtr_maps_denoised_eroded/*nrm_155*'))"
   ]
  },
  {
   "cell_type": "code",
   "execution_count": 69,
   "metadata": {},
   "outputs": [
    {
     "data": {
      "text/plain": [
       "['./calibration_final_oct2020/minc_files/mtr_maps_denoised_eroded\\\\ccx_010_mt_1000_mtr_map_imagemath_denoised_eroded.mnc',\n",
       " './calibration_final_oct2020/minc_files/mtr_maps_denoised_eroded\\\\ccx_010_mt_1045_mtr_map_imagemath_denoised_eroded.mnc',\n",
       " './calibration_final_oct2020/minc_files/mtr_maps_denoised_eroded\\\\ccx_010_mt_820_mtr_map_imagemath_denoised_eroded.mnc',\n",
       " './calibration_final_oct2020/minc_files/mtr_maps_denoised_eroded\\\\ccx_010_mt_865_mtr_map_imagemath_denoised_eroded.mnc',\n",
       " './calibration_final_oct2020/minc_files/mtr_maps_denoised_eroded\\\\ccx_010_mt_910_mtr_map_imagemath_denoised_eroded.mnc',\n",
       " './calibration_final_oct2020/minc_files/mtr_maps_denoised_eroded\\\\ccx_010_mt_955_mtr_map_imagemath_denoised_eroded.mnc']"
      ]
     },
     "execution_count": 69,
     "metadata": {},
     "output_type": "execute_result"
    }
   ],
   "source": [
    "ccx_010_files_d_e"
   ]
  },
  {
   "cell_type": "markdown",
   "metadata": {},
   "source": [
    "3) Run the voxel wise linear regression on the minc files for each subject, whole brain."
   ]
  },
  {
   "cell_type": "code",
   "execution_count": 25,
   "metadata": {},
   "outputs": [],
   "source": [
    "slopes_ccx_003_d_e = voxel_wise_lr_cry_6scan(ccx_003_files_d_e[2], ccx_003_files_d_e[3], ccx_003_files_d_e[4], ccx_003_files_d_e[5], ccx_003_files_d_e[0], ccx_003_files_d_e[1])\n",
    "slopes_ccx_005_d_e = voxel_wise_lr_cry_6scan(ccx_005_files_d_e[2], ccx_005_files_d_e[3], ccx_005_files_d_e[4], ccx_005_files_d_e[5], ccx_005_files_d_e[0], ccx_005_files_d_e[1])\n",
    "slopes_ccx_009_d_e = voxel_wise_lr_cry_6scan(ccx_009_files_d_e[2], ccx_009_files_d_e[3], ccx_009_files_d_e[4], ccx_009_files_d_e[5], ccx_009_files_d_e[0], ccx_009_files_d_e[1])\n",
    "slopes_ccx_010_d_e = voxel_wise_lr_cry_6scan(ccx_010_files_d_e[2], ccx_010_files_d_e[3], ccx_010_files_d_e[4], ccx_010_files_d_e[5], ccx_010_files_d_e[0], ccx_010_files_d_e[1])\n",
    "slopes_cry_122_d_e = voxel_wise_lr_cry_5scan(cry_122_files_d_e[1], cry_122_files_d_e[2], cry_122_files_d_e[3], cry_122_files_d_e[4], cry_122_files_d_e[0])"
   ]
  },
  {
   "cell_type": "code",
   "execution_count": 29,
   "metadata": {},
   "outputs": [],
   "source": [
    "slopes_mil_001_d_e = voxel_wise_lr_nrm_6scan(*mil_001_files_d_e)\n",
    "slopes_nrm_122_d_e = voxel_wise_lr_nrm_6scan(*nrm_122_files_d_e)\n",
    "slopes_nrm_133_d_e = voxel_wise_lr_nrm_6scan(*nrm_133_files_d_e)\n",
    "slopes_nrm_144_d_e = voxel_wise_lr_nrm_5scan(*nrm_144_files_d_e)\n",
    "slopes_nrm_155_d_e = voxel_wise_lr_nrm_5scan(*nrm_155_files_d_e)"
   ]
  },
  {
   "cell_type": "code",
   "execution_count": 74,
   "metadata": {},
   "outputs": [
    {
     "data": {
      "text/plain": [
       "<function matplotlib.pyplot.show(*args, **kw)>"
      ]
     },
     "execution_count": 74,
     "metadata": {},
     "output_type": "execute_result"
    },
    {
     "data": {
      "image/png": "[encoded data removed]",
      "text/plain": [
       "<Figure size 1152x360 with 11 Axes>"
      ]
     },
     "metadata": {
      "needs_background": "light"
     },
     "output_type": "display_data"
    }
   ],
   "source": [
    "#plot the ccx results all in the same plot\n",
    "#viewing other slices (eg 40 gives weird results, so just choose average based on the coronal slice)\n",
    "s = 47 #choose the coronal slice to view\n",
    "fig, axs = plt.subplots(2, 5, figsize=(16,5), sharey = True, sharex = True)\n",
    "pic1_d_e = axs[0,0].imshow(slopes_ccx_003_d_e[::-1,s,:], vmin=0, vmax=3)\n",
    "pic2_d_e = axs[0,1].imshow(slopes_ccx_005_d_e[::-1,s,:], vmin=0, vmax=3)\n",
    "pic3_d_e = axs[0,2].imshow(slopes_ccx_009_d_e[::-1,s,:], vmin=0, vmax=3)\n",
    "pic4_d_e = axs[0,3].imshow(slopes_ccx_010_d_e[::-1,s,:], vmin=0, vmax=3)\n",
    "pic5_d_e = axs[0,4].imshow(slopes_cry_122_d_e[::-1,s,:], vmin=0, vmax=3)\n",
    "#I'm not even showing ccx_004 here.\n",
    "\n",
    "pic6_d_e = axs[1,0].imshow(slopes_mil_001_d_e[::-1,s,:], vmin=0, vmax=3)\n",
    "pic7_d_e = axs[1,1].imshow(slopes_nrm_122_d_e[::-1,s,:], vmin=0, vmax=3)\n",
    "pic8_d_e = axs[1,2].imshow(slopes_nrm_133_d_e[::-1,s,:], vmin=0, vmax=3)\n",
    "pic9_d_e = axs[1,3].imshow(slopes_nrm_144_d_e[::-1,s,:], vmin=0, vmax=3)\n",
    "pic10_d_e = axs[1,4].imshow(slopes_nrm_155_d_e[::-1,s,:], vmin=0, vmax=3)\n",
    "\n",
    "fig.colorbar(pic1_d_e, ax=axs, orientation='horizontal')\n",
    "plt.subplots_adjust(bottom = 0.3, top = 1, hspace=0.001)\n",
    "axs[0,1].set_title('a) Voxel-Wise Calibration slopes (Surface Cryogenic Coil)', fontsize = 15)\n",
    "axs[1,1].set_title('b) Voxel-Wise Calibration slopes (Quadrature Room-temperature Coil)', fontsize = 15)\n",
    "plt.show"
   ]
  },
  {
   "cell_type": "markdown",
   "metadata": {},
   "source": [
    "**Average slope for all subjects-NRM coil (inside b1 mask)**"
   ]
  },
  {
   "cell_type": "markdown",
   "metadata": {},
   "source": [
    "*this part was edited on Jan 11, 2021 (to obtain final slope diagrams)*"
   ]
  },
  {
   "cell_type": "code",
   "execution_count": 6,
   "metadata": {},
   "outputs": [],
   "source": [
    "#this data was created from the whole brain mtr maps, except without csf. Dont yet have tissue specific dataframes\n",
    "df_nrm_d_e = pd.read_csv(\"./files_for_code/calibration_final_oct2020/nrm_calib_files/calib_means_mtr_maps_denoised_eroded_6scan.csv\")"
   ]
  },
  {
   "cell_type": "code",
   "execution_count": 7,
   "metadata": {},
   "outputs": [],
   "source": [
    "#extract normalized b1 values (just reverse order of the arrays defined earlier)\n",
    "b1_nrm6_centered_rev = np.flip(b1_norm_nrm_6scan)\n",
    "b1_nrm5_centered_rev = np.flip(b1_norm_nrm_5scan)"
   ]
  },
  {
   "cell_type": "code",
   "execution_count": 8,
   "metadata": {},
   "outputs": [],
   "source": [
    "#normalize means for each subject (creates new column to hold normalized means)\n",
    "#repeat for each dataframe\n",
    "df = df_nrm_d_e\n",
    "max_values = [df.iloc[0, 2]]*6 + [df.iloc[6, 2]]*6 + [df.iloc[12, 2]]*6+ [df.iloc[18, 2]]*5 + [df.iloc[23,2]]*5\n",
    "df[\"Normalized_means\"] = df[' mean']/max_values\n",
    "df_nrm_d_e=df"
   ]
  },
  {
   "cell_type": "markdown",
   "metadata": {},
   "source": [
    "**Do fitting for each individual mouse (nrm only) - without intercept fitting**"
   ]
  },
  {
   "cell_type": "code",
   "execution_count": 9,
   "metadata": {},
   "outputs": [
    {
     "data": {
      "text/html": [
       "<div>\n",
       "<style scoped>\n",
       "    .dataframe tbody tr th:only-of-type {\n",
       "        vertical-align: middle;\n",
       "    }\n",
       "\n",
       "    .dataframe tbody tr th {\n",
       "        vertical-align: top;\n",
       "    }\n",
       "\n",
       "    .dataframe thead th {\n",
       "        text-align: right;\n",
       "    }\n",
       "</style>\n",
       "<table border=\"1\" class=\"dataframe\">\n",
       "  <thead>\n",
       "    <tr style=\"text-align: right;\">\n",
       "      <th></th>\n",
       "      <th>subject</th>\n",
       "      <th>FA</th>\n",
       "      <th>mean</th>\n",
       "      <th>stddev</th>\n",
       "      <th>Normalized_means</th>\n",
       "    </tr>\n",
       "  </thead>\n",
       "  <tbody>\n",
       "    <tr>\n",
       "      <td>0</td>\n",
       "      <td>nrm_133</td>\n",
       "      <td>512</td>\n",
       "      <td>0.408632</td>\n",
       "      <td>0.045506</td>\n",
       "      <td>1.000000</td>\n",
       "    </tr>\n",
       "    <tr>\n",
       "      <td>1</td>\n",
       "      <td>nrm_133</td>\n",
       "      <td>492</td>\n",
       "      <td>0.372411</td>\n",
       "      <td>0.048189</td>\n",
       "      <td>0.911361</td>\n",
       "    </tr>\n",
       "    <tr>\n",
       "      <td>2</td>\n",
       "      <td>nrm_133</td>\n",
       "      <td>472</td>\n",
       "      <td>0.354125</td>\n",
       "      <td>0.050710</td>\n",
       "      <td>0.866610</td>\n",
       "    </tr>\n",
       "    <tr>\n",
       "      <td>3</td>\n",
       "      <td>nrm_133</td>\n",
       "      <td>452</td>\n",
       "      <td>0.347306</td>\n",
       "      <td>0.051834</td>\n",
       "      <td>0.849924</td>\n",
       "    </tr>\n",
       "    <tr>\n",
       "      <td>4</td>\n",
       "      <td>nrm_133</td>\n",
       "      <td>432</td>\n",
       "      <td>0.313089</td>\n",
       "      <td>0.053209</td>\n",
       "      <td>0.766188</td>\n",
       "    </tr>\n",
       "    <tr>\n",
       "      <td>5</td>\n",
       "      <td>nrm_133</td>\n",
       "      <td>412</td>\n",
       "      <td>0.288953</td>\n",
       "      <td>0.055229</td>\n",
       "      <td>0.707122</td>\n",
       "    </tr>\n",
       "    <tr>\n",
       "      <td>6</td>\n",
       "      <td>nrm_122</td>\n",
       "      <td>512</td>\n",
       "      <td>0.291408</td>\n",
       "      <td>0.094275</td>\n",
       "      <td>1.000000</td>\n",
       "    </tr>\n",
       "    <tr>\n",
       "      <td>7</td>\n",
       "      <td>nrm_122</td>\n",
       "      <td>492</td>\n",
       "      <td>0.270728</td>\n",
       "      <td>0.059605</td>\n",
       "      <td>0.929035</td>\n",
       "    </tr>\n",
       "    <tr>\n",
       "      <td>8</td>\n",
       "      <td>nrm_122</td>\n",
       "      <td>472</td>\n",
       "      <td>0.260699</td>\n",
       "      <td>0.061750</td>\n",
       "      <td>0.894617</td>\n",
       "    </tr>\n",
       "    <tr>\n",
       "      <td>9</td>\n",
       "      <td>nrm_122</td>\n",
       "      <td>452</td>\n",
       "      <td>0.239945</td>\n",
       "      <td>0.064823</td>\n",
       "      <td>0.823398</td>\n",
       "    </tr>\n",
       "    <tr>\n",
       "      <td>10</td>\n",
       "      <td>nrm_122</td>\n",
       "      <td>432</td>\n",
       "      <td>0.235329</td>\n",
       "      <td>0.066977</td>\n",
       "      <td>0.807557</td>\n",
       "    </tr>\n",
       "    <tr>\n",
       "      <td>11</td>\n",
       "      <td>nrm_122</td>\n",
       "      <td>412</td>\n",
       "      <td>0.232272</td>\n",
       "      <td>0.067560</td>\n",
       "      <td>0.797068</td>\n",
       "    </tr>\n",
       "    <tr>\n",
       "      <td>12</td>\n",
       "      <td>mil_001</td>\n",
       "      <td>512</td>\n",
       "      <td>0.365405</td>\n",
       "      <td>0.056752</td>\n",
       "      <td>1.000000</td>\n",
       "    </tr>\n",
       "    <tr>\n",
       "      <td>13</td>\n",
       "      <td>mil_001</td>\n",
       "      <td>492</td>\n",
       "      <td>0.370893</td>\n",
       "      <td>0.060887</td>\n",
       "      <td>1.015021</td>\n",
       "    </tr>\n",
       "    <tr>\n",
       "      <td>14</td>\n",
       "      <td>mil_001</td>\n",
       "      <td>472</td>\n",
       "      <td>0.364931</td>\n",
       "      <td>0.061672</td>\n",
       "      <td>0.998703</td>\n",
       "    </tr>\n",
       "    <tr>\n",
       "      <td>15</td>\n",
       "      <td>mil_001</td>\n",
       "      <td>452</td>\n",
       "      <td>0.343527</td>\n",
       "      <td>0.062783</td>\n",
       "      <td>0.940128</td>\n",
       "    </tr>\n",
       "    <tr>\n",
       "      <td>16</td>\n",
       "      <td>mil_001</td>\n",
       "      <td>432</td>\n",
       "      <td>0.301617</td>\n",
       "      <td>0.065709</td>\n",
       "      <td>0.825433</td>\n",
       "    </tr>\n",
       "    <tr>\n",
       "      <td>17</td>\n",
       "      <td>mil_001</td>\n",
       "      <td>412</td>\n",
       "      <td>0.262852</td>\n",
       "      <td>0.066307</td>\n",
       "      <td>0.719346</td>\n",
       "    </tr>\n",
       "    <tr>\n",
       "      <td>18</td>\n",
       "      <td>nrm_144</td>\n",
       "      <td>512</td>\n",
       "      <td>0.316160</td>\n",
       "      <td>0.058559</td>\n",
       "      <td>1.000000</td>\n",
       "    </tr>\n",
       "    <tr>\n",
       "      <td>19</td>\n",
       "      <td>nrm_144</td>\n",
       "      <td>492</td>\n",
       "      <td>0.306498</td>\n",
       "      <td>0.057900</td>\n",
       "      <td>0.969440</td>\n",
       "    </tr>\n",
       "    <tr>\n",
       "      <td>20</td>\n",
       "      <td>nrm_144</td>\n",
       "      <td>472</td>\n",
       "      <td>0.305879</td>\n",
       "      <td>0.058280</td>\n",
       "      <td>0.967484</td>\n",
       "    </tr>\n",
       "    <tr>\n",
       "      <td>21</td>\n",
       "      <td>nrm_144</td>\n",
       "      <td>452</td>\n",
       "      <td>0.304109</td>\n",
       "      <td>0.057227</td>\n",
       "      <td>0.961886</td>\n",
       "    </tr>\n",
       "    <tr>\n",
       "      <td>22</td>\n",
       "      <td>nrm_144</td>\n",
       "      <td>432</td>\n",
       "      <td>0.294051</td>\n",
       "      <td>0.057227</td>\n",
       "      <td>0.930072</td>\n",
       "    </tr>\n",
       "    <tr>\n",
       "      <td>23</td>\n",
       "      <td>nrm_155</td>\n",
       "      <td>512</td>\n",
       "      <td>0.266269</td>\n",
       "      <td>0.060145</td>\n",
       "      <td>1.000000</td>\n",
       "    </tr>\n",
       "    <tr>\n",
       "      <td>24</td>\n",
       "      <td>nrm_155</td>\n",
       "      <td>492</td>\n",
       "      <td>0.250103</td>\n",
       "      <td>0.060679</td>\n",
       "      <td>0.939287</td>\n",
       "    </tr>\n",
       "    <tr>\n",
       "      <td>25</td>\n",
       "      <td>nrm_155</td>\n",
       "      <td>472</td>\n",
       "      <td>0.242840</td>\n",
       "      <td>0.061246</td>\n",
       "      <td>0.912009</td>\n",
       "    </tr>\n",
       "    <tr>\n",
       "      <td>26</td>\n",
       "      <td>nrm_155</td>\n",
       "      <td>452</td>\n",
       "      <td>0.230690</td>\n",
       "      <td>0.060823</td>\n",
       "      <td>0.866378</td>\n",
       "    </tr>\n",
       "    <tr>\n",
       "      <td>27</td>\n",
       "      <td>nrm_155</td>\n",
       "      <td>432</td>\n",
       "      <td>0.209047</td>\n",
       "      <td>0.060597</td>\n",
       "      <td>0.785097</td>\n",
       "    </tr>\n",
       "  </tbody>\n",
       "</table>\n",
       "</div>"
      ],
      "text/plain": [
       "    subject   FA      mean    stddev  Normalized_means\n",
       "0   nrm_133  512  0.408632  0.045506          1.000000\n",
       "1   nrm_133  492  0.372411  0.048189          0.911361\n",
       "2   nrm_133  472  0.354125  0.050710          0.866610\n",
       "3   nrm_133  452  0.347306  0.051834          0.849924\n",
       "4   nrm_133  432  0.313089  0.053209          0.766188\n",
       "5   nrm_133  412  0.288953  0.055229          0.707122\n",
       "6   nrm_122  512  0.291408  0.094275          1.000000\n",
       "7   nrm_122  492  0.270728  0.059605          0.929035\n",
       "8   nrm_122  472  0.260699  0.061750          0.894617\n",
       "9   nrm_122  452  0.239945  0.064823          0.823398\n",
       "10  nrm_122  432  0.235329  0.066977          0.807557\n",
       "11  nrm_122  412  0.232272  0.067560          0.797068\n",
       "12  mil_001  512  0.365405  0.056752          1.000000\n",
       "13  mil_001  492  0.370893  0.060887          1.015021\n",
       "14  mil_001  472  0.364931  0.061672          0.998703\n",
       "15  mil_001  452  0.343527  0.062783          0.940128\n",
       "16  mil_001  432  0.301617  0.065709          0.825433\n",
       "17  mil_001  412  0.262852  0.066307          0.719346\n",
       "18  nrm_144  512  0.316160  0.058559          1.000000\n",
       "19  nrm_144  492  0.306498  0.057900          0.969440\n",
       "20  nrm_144  472  0.305879  0.058280          0.967484\n",
       "21  nrm_144  452  0.304109  0.057227          0.961886\n",
       "22  nrm_144  432  0.294051  0.057227          0.930072\n",
       "23  nrm_155  512  0.266269  0.060145          1.000000\n",
       "24  nrm_155  492  0.250103  0.060679          0.939287\n",
       "25  nrm_155  472  0.242840  0.061246          0.912009\n",
       "26  nrm_155  452  0.230690  0.060823          0.866378\n",
       "27  nrm_155  432  0.209047  0.060597          0.785097"
      ]
     },
     "execution_count": 9,
     "metadata": {},
     "output_type": "execute_result"
    }
   ],
   "source": [
    "df_nrm_d_e"
   ]
  },
  {
   "cell_type": "code",
   "execution_count": 10,
   "metadata": {},
   "outputs": [],
   "source": [
    "regr_obj = linear_model.LinearRegression(fit_intercept = False)\n",
    "regr_155_d_e = regr_obj.fit(b1_nrm5_centered_rev,df_nrm_d_e.iloc[23:28, 4:5]-1)\n",
    "\n",
    "regr_obj = linear_model.LinearRegression(fit_intercept = False)\n",
    "regr_144_d_e = regr_obj.fit(b1_nrm5_centered_rev,df_nrm_d_e.iloc[18:23, 4:5]-1)\n",
    "\n",
    "regr_obj = linear_model.LinearRegression(fit_intercept = False)\n",
    "regr_133_d_e = regr_obj.fit(b1_nrm6_centered_rev,df_nrm_d_e.iloc[0:6, 4:5]-1)\n",
    "\n",
    "regr_obj = linear_model.LinearRegression(fit_intercept = False)\n",
    "regr_122_d_e = regr_obj.fit(b1_nrm6_centered_rev,df_nrm_d_e.iloc[6:12, 4:5]-1)\n",
    "\n",
    "regr_obj = linear_model.LinearRegression(fit_intercept = False)\n",
    "regr_mil_001_d_e = regr_obj.fit(b1_nrm6_centered_rev,df_nrm_d_e.iloc[12:18, 4:5]-1)"
   ]
  },
  {
   "cell_type": "code",
   "execution_count": 11,
   "metadata": {},
   "outputs": [
    {
     "name": "stdout",
     "output_type": "stream",
     "text": [
      "slope: [[0.41783182]] and intercept: 0.0\n",
      "slope: [[1.20830697]] and intercept: 0.0\n",
      "slope: [[1.49191393]] and intercept: 0.0\n",
      "slope: [[1.27758697]] and intercept: 0.0\n",
      "slope: [[1.05598967]] and intercept: 0.0\n"
     ]
    }
   ],
   "source": [
    "print('slope:', regr_144_d_e.coef_, 'and intercept:', regr_144_d_e.intercept_)\n",
    "print('slope:', regr_122_d_e.coef_, 'and intercept:', regr_122_d_e.intercept_)\n",
    "print('slope:', regr_133_d_e.coef_, 'and intercept:', regr_133_d_e.intercept_)\n",
    "print('slope:', regr_155_d_e.coef_, 'and intercept:', regr_155_d_e.intercept_)\n",
    "print('slope:', regr_mil_001_d_e.coef_, 'and intercept:', regr_mil_001_d_e.intercept_)"
   ]
  },
  {
   "cell_type": "code",
   "execution_count": 12,
   "metadata": {},
   "outputs": [
    {
     "data": {
      "text/plain": [
       "1.2584493799999998"
      ]
     },
     "execution_count": 12,
     "metadata": {},
     "output_type": "execute_result"
    }
   ],
   "source": [
    "avg_nrm_slope = (1.20830697 + 1.49191393 + 1.27758695 + 1.05598967)/4\n",
    "avg_nrm_slope"
   ]
  },
  {
   "cell_type": "code",
   "execution_count": 15,
   "metadata": {},
   "outputs": [
    {
     "data": {
      "image/png": "[encoded data removed]",
      "text/plain": [
       "<Figure size 144x144 with 1 Axes>"
      ]
     },
     "metadata": {
      "needs_background": "light"
     },
     "output_type": "display_data"
    }
   ],
   "source": [
    "#plot the slope and all the points(nrm)\n",
    "plt.figure(figsize = (2,2))\n",
    "size=6\n",
    "col = 'grey'\n",
    "plt.plot(100*(b1_nrm5_centered_rev+1), 100*df_nrm_d_e.iloc[23:28, 4:5], '.', markersize = size, color=col)\n",
    "plt.plot(100*(b1_nrm6_centered_rev+1), 100*df_nrm_d_e.iloc[0:6, 4:5], '.', markersize = size, color=col)\n",
    "plt.plot(100*(b1_nrm6_centered_rev+1), 100*df_nrm_d_e.iloc[6:12, 4:5], '.', markersize = size, color=col)\n",
    "plt.plot(100*(b1_nrm6_centered_rev+1), 100*df_nrm_d_e.iloc[12:18, 4:5], '.', markersize = size, color=col)\n",
    "\n",
    "plt.plot(100*(b1_nrm6_centered_rev+1), 100*((avg_nrm_slope*b1_nrm6_centered_rev)+1), '-', linewidth = 3, color='red')\n",
    "\n",
    "plt.xlabel(\"B1 normalized\", fontsize = 15)\n",
    "plt.ylabel(\"MTR normalized\", fontsize = 15)\n",
    "plt.rc('xtick',labelsize=15)\n",
    "plt.rc('ytick',labelsize=15)\n",
    "plt.show()"
   ]
  },
  {
   "cell_type": "markdown",
   "metadata": {},
   "source": [
    "**Average slope for all subjects-CRYO (inside b1 mask)**"
   ]
  },
  {
   "cell_type": "code",
   "execution_count": 16,
   "metadata": {},
   "outputs": [],
   "source": [
    "#this data was created from the whole brain mtr maps, except without csf. Dont yet have tissue specific dataframes\n",
    "df_cry_d_e_mask08 = pd.read_csv(\"./files_for_code/calibration_final_oct2020/calib_means_mtr_maps_denoised_eroded_b1_mask_08.csv\")"
   ]
  },
  {
   "cell_type": "code",
   "execution_count": 17,
   "metadata": {},
   "outputs": [],
   "source": [
    "#extract normalized b1 values (just reverse order of the arrays defined earlier)\n",
    "b1_norm_centered_rev = np.flip(b1_norm_cry_6scan)\n",
    "b1_norm_centered_5scan_rev = np.flip(b1_norm_cry_5scan)"
   ]
  },
  {
   "cell_type": "code",
   "execution_count": 18,
   "metadata": {},
   "outputs": [],
   "source": [
    "#normalize means for each subject (creates new column to hold normalized means)\n",
    "df = df_cry_d_e_mask08\n",
    "max_values = [df.iloc[0, 2]]*5 + [df.iloc[5, 2]]*6 + [df.iloc[11, 2]]*6 + [df.iloc[17,2]]*6\n",
    "df[\"Normalized_means\"] = df[' mean']/max_values\n",
    "df_cry_d_e_mask08=df"
   ]
  },
  {
   "cell_type": "markdown",
   "metadata": {},
   "source": [
    "**Do fitting for each individual mouse (cry only) - without intercept fitting**"
   ]
  },
  {
   "cell_type": "code",
   "execution_count": 19,
   "metadata": {},
   "outputs": [],
   "source": [
    "regr_obj = linear_model.LinearRegression(fit_intercept = False)\n",
    "regr_003_d_e_mask08 = regr_obj.fit(b1_norm_centered_rev,df_cry_d_e_mask08.iloc[11:17, 4:5]-1)\n",
    "\n",
    "regr_obj = linear_model.LinearRegression(fit_intercept = False)\n",
    "regr_122_d_e_mask08 = regr_obj.fit(b1_norm_centered_5scan_rev,df_cry_d_e_mask08.iloc[0:5, 4:5]-1)\n",
    "\n",
    "regr_obj = linear_model.LinearRegression(fit_intercept = False)\n",
    "regr_005_d_e_mask08 = regr_obj.fit(b1_norm_centered_rev,df_cry_d_e_mask08.iloc[5:11, 4:5]-1)\n",
    "\n",
    "regr_obj = linear_model.LinearRegression(fit_intercept = False)\n",
    "regr_009_d_e_mask08 = regr_obj.fit(b1_norm_centered_rev,df_cry_d_e_mask08.iloc[17:23, 4:5]-1)"
   ]
  },
  {
   "cell_type": "code",
   "execution_count": 20,
   "metadata": {},
   "outputs": [
    {
     "name": "stdout",
     "output_type": "stream",
     "text": [
      "slope: [[1.27543431]] and intercept: 0.0\n",
      "slope: [[0.83057899]] and intercept: 0.0\n",
      "slope: [[1.09733052]] and intercept: 0.0\n",
      "slope: [[1.18006497]] and intercept: 0.0\n"
     ]
    }
   ],
   "source": [
    "print('slope:', regr_003_d_e_mask08.coef_, 'and intercept:', regr_003_d_e_mask08.intercept_)\n",
    "print('slope:', regr_122_d_e_mask08.coef_, 'and intercept:', regr_122_d_e_mask08.intercept_)\n",
    "print('slope:', regr_005_d_e_mask08.coef_, 'and intercept:', regr_005_d_e_mask08.intercept_)\n",
    "print('slope:', regr_009_d_e_mask08.coef_, 'and intercept:', regr_009_d_e_mask08.intercept_)"
   ]
  },
  {
   "cell_type": "code",
   "execution_count": 21,
   "metadata": {},
   "outputs": [
    {
     "data": {
      "text/plain": [
       "1.1842766000000002"
      ]
     },
     "execution_count": 21,
     "metadata": {},
     "output_type": "execute_result"
    }
   ],
   "source": [
    "avg_08_cry_slope = (1.27543431 + 1.09733052 + 1.18006497)/3\n",
    "avg_08_cry_slope"
   ]
  },
  {
   "cell_type": "code",
   "execution_count": 23,
   "metadata": {},
   "outputs": [
    {
     "data": {
      "image/png": "[encoded data removed]",
      "text/plain": [
       "<Figure size 144x144 with 1 Axes>"
      ]
     },
     "metadata": {
      "needs_background": "light"
     },
     "output_type": "display_data"
    }
   ],
   "source": [
    "#plot the slope and all the points(nrm)\n",
    "plt.figure(figsize = (2,2))\n",
    "size=6\n",
    "col = 'grey'\n",
    "plt.plot(100*(b1_norm_centered_rev+1), 100*df_cry_d_e_mask08.iloc[11:17, 4:5], '.', markersize = size, color=col)\n",
    "plt.plot(100*(b1_norm_centered_rev+1), 100*df_cry_d_e_mask08.iloc[5:11, 4:5], '.', markersize = size, color=col)\n",
    "plt.plot(100*(b1_norm_centered_rev+1), 100*df_cry_d_e_mask08.iloc[17:23, 4:5], '.', markersize = size, color=col)\n",
    "\n",
    "plt.plot(100*(b1_norm_centered_rev+1), 100*((avg_08_cry_slope*b1_norm_centered_rev)+1), '-', linewidth = 3, color='dodgerblue')\n",
    "\n",
    "plt.xlabel(\"B1 normalized\", fontsize = 15)\n",
    "plt.ylabel(\"MTR normalized\", fontsize = 15)\n",
    "plt.rc('xtick',labelsize=15)\n",
    "plt.rc('ytick',labelsize=15)\n",
    "plt.show()"
   ]
  },
  {
   "cell_type": "code",
   "execution_count": null,
   "metadata": {},
   "outputs": [],
   "source": []
  }
 ],
 "metadata": {
  "kernelspec": {
   "display_name": "Python 3",
   "language": "python",
   "name": "python3"
  },
  "language_info": {
   "codemirror_mode": {
    "name": "ipython",
    "version": 3
   },
   "file_extension": ".py",
   "mimetype": "text/x-python",
   "name": "python",
   "nbconvert_exporter": "python",
   "pygments_lexer": "ipython3",
   "version": "3.8.8"
  }
 },
 "nbformat": 4,
 "nbformat_minor": 2
}
